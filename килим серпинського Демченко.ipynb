{
 "cells": [
  {
   "cell_type": "code",
   "execution_count": 4,
   "id": "65ee442c-ab96-48d0-a70b-0d717891ba12",
   "metadata": {},
   "outputs": [
    {
     "data": {
      "image/png": "[encoded data removed]",
      "text/plain": [
       "<Figure size 640x480 with 1 Axes>"
      ]
     },
     "metadata": {},
     "output_type": "display_data"
    }
   ],
   "source": [
    "\n",
    "\n",
    "\n",
    "import matplotlib.pyplot as plt\n",
    "\n",
    "def draw_carpet(x, y, size, depth):\n",
    "    if depth == 0:\n",
    "        return\n",
    "    else:\n",
    "        new_size = size / 3\n",
    "        for i in range(3):\n",
    "            for j in range(3):\n",
    "                if i != 1 or j != 1:\n",
    "                    draw_carpet(x + i * new_size, y + j * new_size, new_size, depth - 1)\n",
    "                else:\n",
    "                    plt.fill([x + new_size, x + 2 * new_size, x + 2 * new_size, x + new_size], \n",
    "                             [y + new_size, y + new_size, y + 2 * new_size, y + 2 * new_size], 'r')\n",
    "\n",
    "# Розміри килима та глибина рекурсії\n",
    "size = 1\n",
    "depth = 3\n",
    "\n",
    "# Створення фігури\n",
    "fig, ax = plt.subplots()\n",
    "\n",
    "# Виклик функції для малювання килима\n",
    "draw_carpet(0, 0, size, depth)\n",
    "\n",
    "# Налаштування відображення\n",
    "ax.set_xlim(0, size)\n",
    "ax.set_ylim(0, size)\n",
    "ax.set_aspect('equal')\n",
    "ax.axis('off')\n",
    "\n",
    "# Показати зображення\n",
    "plt.show()\n"
   ]
  },
  {
   "cell_type": "code",
   "execution_count": null,
   "id": "23884102-3e28-4eb0-a741-8d7782e189d8",
   "metadata": {},
   "outputs": [],
   "source": []
  }
 ],
 "metadata": {
  "kernelspec": {
   "display_name": "Python 3 (ipykernel)",
   "language": "python",
   "name": "python3"
  },
  "language_info": {
   "codemirror_mode": {
    "name": "ipython",
    "version": 3
   },
   "file_extension": ".py",
   "mimetype": "text/x-python",
   "name": "python",
   "nbconvert_exporter": "python",
   "pygments_lexer": "ipython3",
   "version": "3.10.9"
  }
 },
 "nbformat": 4,
 "nbformat_minor": 5
}
