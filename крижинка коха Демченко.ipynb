{
 "cells": [
  {
   "cell_type": "code",
   "execution_count": 1,
   "id": "f4e4ee71-45c0-4ed0-a783-a52b9f99d619",
   "metadata": {},
   "outputs": [
    {
     "name": "stdin",
     "output_type": "stream",
     "text": [
      "Введіть глибину рекурсії (ціле число більше 0):  2\n"
     ]
    }
   ],
   "source": [
    "import turtle\n",
    "\n",
    "def koch_snowflake(t, order, size):\n",
    "    if order == 0:\n",
    "        t.forward(size)\n",
    "    else:\n",
    "        for angle in [60, -120, 60, 0]:\n",
    "            koch_snowflake(t, order-1, size/3)\n",
    "            t.left(angle)\n",
    "\n",
    "def draw_koch_snowflake(order, size):\n",
    "    window = turtle.Screen()\n",
    "    window.bgcolor(\"white\")\n",
    "    window.title(\"Крижинка Коха\")\n",
    "\n",
    "    snowflake = turtle.Turtle()\n",
    "    snowflake.speed(0)\n",
    "    snowflake.color(\"blue\")\n",
    "\n",
    "    snowflake.penup()\n",
    "    snowflake.goto(-size/2, size/2)\n",
    "    snowflake.pendown()\n",
    "\n",
    "    for _ in range(3):\n",
    "        koch_snowflake(snowflake, order, size)\n",
    "        snowflake.right(120)\n",
    "\n",
    "    snowflake.hideturtle()\n",
    "    window.mainloop()\n",
    "\n",
    "# Виклик функції для малювання крижинки Коха\n",
    "depth = int(input(\"Введіть глибину рекурсії (ціле число більше 0): \"))\n",
    "size = 300\n",
    "draw_koch_snowflake(depth, size)\n"
   ]
  },
  {
   "cell_type": "code",
   "execution_count": null,
   "id": "bccc6dae-07cc-4c94-b1de-8796026cc10b",
   "metadata": {},
   "outputs": [],
   "source": []
  }
 ],
 "metadata": {
  "kernelspec": {
   "display_name": "Python 3 (ipykernel)",
   "language": "python",
   "name": "python3"
  },
  "language_info": {
   "codemirror_mode": {
    "name": "ipython",
    "version": 3
   },
   "file_extension": ".py",
   "mimetype": "text/x-python",
   "name": "python",
   "nbconvert_exporter": "python",
   "pygments_lexer": "ipython3",
   "version": "3.10.9"
  }
 },
 "nbformat": 4,
 "nbformat_minor": 5
}
