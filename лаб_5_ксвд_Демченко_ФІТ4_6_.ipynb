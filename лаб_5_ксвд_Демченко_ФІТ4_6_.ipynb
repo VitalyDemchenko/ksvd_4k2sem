{
  "nbformat": 4,
  "nbformat_minor": 0,
  "metadata": {
    "colab": {
      "provenance": []
    },
    "kernelspec": {
      "name": "python3",
      "display_name": "Python 3"
    },
    "language_info": {
      "name": "python"
    }
  },
  "cells": [
    {
      "cell_type": "code",
      "execution_count": 59,
      "metadata": {
        "colab": {
          "base_uri": "https://localhost:8080/"
        },
        "id": "FbIL1CsXHub8",
        "outputId": "ee46622d-ceb8-41f1-bd7b-cd77fab52a33"
      },
      "outputs": [
        {
          "output_type": "stream",
          "name": "stdout",
          "text": [
            "Requirement already satisfied: pyspark in /usr/local/lib/python3.10/dist-packages (3.5.1)\n",
            "Requirement already satisfied: py4j==0.10.9.7 in /usr/local/lib/python3.10/dist-packages (from pyspark) (0.10.9.7)\n",
            "root\n",
            " |-- Name: string (nullable = true)\n",
            " |-- Author: string (nullable = true)\n",
            " |-- User Rating: double (nullable = true)\n",
            " |-- Reviews: integer (nullable = true)\n",
            " |-- Price: integer (nullable = true)\n",
            " |-- Year: integer (nullable = true)\n",
            " |-- Genre: string (nullable = true)\n",
            "\n",
            "Назви стовпців та типи даних:\n"
          ]
        },
        {
          "output_type": "execute_result",
          "data": {
            "text/plain": [
              "[('Name', 'string'),\n",
              " ('Author', 'string'),\n",
              " ('User Rating', 'double'),\n",
              " ('Reviews', 'int'),\n",
              " ('Price', 'int'),\n",
              " ('Year', 'int'),\n",
              " ('Genre', 'string')]"
            ]
          },
          "metadata": {},
          "execution_count": 59
        }
      ],
      "source": [
        "# Прочитайте CSV файл spark.read.csv()\n",
        "# 2.\tВивести схему даних за допомогою PrintSchema.\n",
        "# 3.\tВивести назви стовпців і типи даних за допомогою dtypes\n",
        "!pip install pyspark\n",
        "from pyspark.sql import SparkSession\n",
        "\n",
        "# Створення SparkSession\n",
        "spark = SparkSession.builder \\\n",
        "    .appName(\"Python Spark SQL basic example\") \\\n",
        "    .config(\"spark.some.config.option\", \"some-value\") \\\n",
        "    .getOrCreate()\n",
        "\n",
        "# Завантаження CSV файлу\n",
        "# Завантаження CSV файлу\n",
        "df = spark.read.csv(\"/content/bestsellers with categories.csv\", header=True, inferSchema=True)\n",
        "\n",
        "\n",
        "\n",
        "# Виведення схеми даних\n",
        "df.printSchema()\n",
        "\n",
        "# Виведення назв стовпців і типів даних\n",
        "print(\"Назви стовпців та типи даних:\")\n",
        "df.dtypes\n",
        "\n"
      ]
    },
    {
      "cell_type": "code",
      "source": [
        "# 4.\tВиведіть перші п'ять рядків (використовується метод head)\n",
        "\n",
        "print(\"Перші 5 рядків:\")\n",
        "df.head(5)\n",
        "\n",
        "\n"
      ],
      "metadata": {
        "colab": {
          "base_uri": "https://localhost:8080/"
        },
        "id": "Fui4cmafQpgB",
        "outputId": "d654683c-0a05-4472-ad56-63db76d63689"
      },
      "execution_count": 60,
      "outputs": [
        {
          "output_type": "stream",
          "name": "stdout",
          "text": [
            "Перші 5 рядків:\n"
          ]
        },
        {
          "output_type": "execute_result",
          "data": {
            "text/plain": [
              "[Row(Name='10-Day Green Smoothie Cleanse', Author='JJ Smith', User Rating=4.7, Reviews=17350, Price=8, Year=2016, Genre='Non Fiction'),\n",
              " Row(Name='11/22/63: A Novel', Author='Stephen King', User Rating=4.6, Reviews=2052, Price=22, Year=2011, Genre='Fiction'),\n",
              " Row(Name='12 Rules for Life: An Antidote to Chaos', Author='Jordan B. Peterson', User Rating=4.7, Reviews=18979, Price=15, Year=2018, Genre='Non Fiction'),\n",
              " Row(Name='1984 (Signet Classics)', Author='George Orwell', User Rating=4.7, Reviews=21424, Price=6, Year=2017, Genre='Fiction'),\n",
              " Row(Name='5,000 Awesome Facts (About Everything!) (National Geographic Kids)', Author='National Geographic Kids', User Rating=4.8, Reviews=7665, Price=12, Year=2019, Genre='Non Fiction')]"
            ]
          },
          "metadata": {},
          "execution_count": 60
        }
      ]
    },
    {
      "cell_type": "code",
      "source": [
        "df.show(5)"
      ],
      "metadata": {
        "colab": {
          "base_uri": "https://localhost:8080/"
        },
        "id": "wDP7VUj6HHw1",
        "outputId": "dbdc4bfc-9598-4dd8-bf90-88eac1f75971"
      },
      "execution_count": 61,
      "outputs": [
        {
          "output_type": "stream",
          "name": "stdout",
          "text": [
            "+--------------------+--------------------+-----------+-------+-----+----+-----------+\n",
            "|                Name|              Author|User Rating|Reviews|Price|Year|      Genre|\n",
            "+--------------------+--------------------+-----------+-------+-----+----+-----------+\n",
            "|10-Day Green Smoo...|            JJ Smith|        4.7|  17350|    8|2016|Non Fiction|\n",
            "|   11/22/63: A Novel|        Stephen King|        4.6|   2052|   22|2011|    Fiction|\n",
            "|12 Rules for Life...|  Jordan B. Peterson|        4.7|  18979|   15|2018|Non Fiction|\n",
            "|1984 (Signet Clas...|       George Orwell|        4.7|  21424|    6|2017|    Fiction|\n",
            "|5,000 Awesome Fac...|National Geograph...|        4.8|   7665|   12|2019|Non Fiction|\n",
            "+--------------------+--------------------+-----------+-------+-----+----+-----------+\n",
            "only showing top 5 rows\n",
            "\n"
          ]
        }
      ]
    },
    {
      "cell_type": "code",
      "source": [
        "# 5.\tВивести перший рядок за допомогою first()\n",
        "\n",
        "print(\"Перший рядок:\")\n",
        "df.first()\n"
      ],
      "metadata": {
        "colab": {
          "base_uri": "https://localhost:8080/"
        },
        "id": "Nh59FguADHEc",
        "outputId": "b7fc9c1e-e3ea-4a73-eec8-5ed9d3d81cb3"
      },
      "execution_count": 62,
      "outputs": [
        {
          "output_type": "stream",
          "name": "stdout",
          "text": [
            "Перший рядок:\n"
          ]
        },
        {
          "output_type": "execute_result",
          "data": {
            "text/plain": [
              "Row(Name='10-Day Green Smoothie Cleanse', Author='JJ Smith', User Rating=4.7, Reviews=17350, Price=8, Year=2016, Genre='Non Fiction')"
            ]
          },
          "metadata": {},
          "execution_count": 62
        }
      ]
    },
    {
      "cell_type": "code",
      "source": [
        "# 6.\tЗробіть опис датасету за допомогою describe()\n",
        "\n",
        "print(\"Опис датасету:\")\n",
        "df.describe().show()"
      ],
      "metadata": {
        "colab": {
          "base_uri": "https://localhost:8080/"
        },
        "id": "3S1jFo_vDJpa",
        "outputId": "5d65a7df-eb69-48e1-bc61-747f7e294823"
      },
      "execution_count": 63,
      "outputs": [
        {
          "output_type": "stream",
          "name": "stdout",
          "text": [
            "Опис датасету:\n",
            "+-------+--------------------+----------------+-------------------+------------------+------------------+------------------+-----------+\n",
            "|summary|                Name|          Author|        User Rating|           Reviews|             Price|              Year|      Genre|\n",
            "+-------+--------------------+----------------+-------------------+------------------+------------------+------------------+-----------+\n",
            "|  count|                 550|             550|                550|               550|               550|               550|        550|\n",
            "|   mean|                NULL|            NULL|  4.618363636363641|11953.281818181818|              13.1|            2014.0|       NULL|\n",
            "| stddev|                NULL|            NULL|0.22698036502519656|11731.132017431892|10.842261978422364|3.1651563841692782|       NULL|\n",
            "|    min|\"The Plant Parado...|Abraham Verghese|                3.3|                37|                 0|              2009|    Fiction|\n",
            "|    max|You Are a Badass:...|    Zhi Gang Sha|                4.9|             87841|               105|              2019|Non Fiction|\n",
            "+-------+--------------------+----------------+-------------------+------------------+------------------+------------------+-----------+\n",
            "\n"
          ]
        }
      ]
    },
    {
      "cell_type": "code",
      "source": [
        "# 7.\tВиведіть список стовпців за допомогою columns()\n",
        "\n",
        "print(\"Список стовпців:\")\n",
        "df.columns"
      ],
      "metadata": {
        "colab": {
          "base_uri": "https://localhost:8080/"
        },
        "id": "r31vVQs-DQgZ",
        "outputId": "3ea4784b-977c-4de1-da0c-163af2e023a1"
      },
      "execution_count": 64,
      "outputs": [
        {
          "output_type": "stream",
          "name": "stdout",
          "text": [
            "Список стовпців:\n"
          ]
        },
        {
          "output_type": "execute_result",
          "data": {
            "text/plain": [
              "['Name', 'Author', 'User Rating', 'Reviews', 'Price', 'Year', 'Genre']"
            ]
          },
          "metadata": {},
          "execution_count": 64
        }
      ]
    },
    {
      "cell_type": "code",
      "source": [
        "# 8.\tВиведіть загальну кількість рядків даних за допомогою count()\n",
        "\n",
        "\n",
        "print(\"Загальна кількість рядків:\")\n",
        "df.count()"
      ],
      "metadata": {
        "colab": {
          "base_uri": "https://localhost:8080/"
        },
        "id": "V9voE5MaDeRw",
        "outputId": "6e7623f2-1cc0-48c3-e9a6-abe1ccb8e263"
      },
      "execution_count": 65,
      "outputs": [
        {
          "output_type": "stream",
          "name": "stdout",
          "text": [
            "Загальна кількість рядків:\n"
          ]
        },
        {
          "output_type": "execute_result",
          "data": {
            "text/plain": [
              "550"
            ]
          },
          "metadata": {},
          "execution_count": 65
        }
      ]
    },
    {
      "cell_type": "code",
      "source": [
        "# 9.\tПеревірте, чи у всіх рядків вистачає даних. Якщо є пропуски, замінить їх на NaN, потім тип даних на числовий.\n",
        "\n",
        "from pyspark.sql.functions import isnan, when, count, col\n",
        "\n",
        "# Підрахунок пропущених значень по стовпцях\n",
        "missing_count = df.select([count(when(isnan(c) | col(c).isNull(), c)).alias(c) for c in df.columns])\n",
        "\n",
        "# Перевірка наявності пропусків у всіх рядках\n",
        "if missing_count.select([count(when(col(c) == 0, c)).alias(c) for c in missing_count.columns]).first():\n",
        "    print(\"Немає пропущених значень.\")\n",
        "else:\n",
        "    print(\"Є пропущені значення.\")\n",
        "    # Заміна пропущених значень на NaN\n",
        "    df = df.na.fill('NaN')\n"
      ],
      "metadata": {
        "colab": {
          "base_uri": "https://localhost:8080/"
        },
        "id": "3U1YRnaKDeaE",
        "outputId": "6ddc77d5-dfc8-4e43-8433-679d20576474"
      },
      "execution_count": 66,
      "outputs": [
        {
          "output_type": "stream",
          "name": "stdout",
          "text": [
            "Немає пропущених значень.\n"
          ]
        }
      ]
    },
    {
      "cell_type": "code",
      "source": [
        "df.show(5)"
      ],
      "metadata": {
        "colab": {
          "base_uri": "https://localhost:8080/"
        },
        "id": "DxHSFd41HQ8X",
        "outputId": "8e173c70-9209-4f93-89d6-80d2f777bed1"
      },
      "execution_count": 67,
      "outputs": [
        {
          "output_type": "stream",
          "name": "stdout",
          "text": [
            "+--------------------+--------------------+-----------+-------+-----+----+-----------+\n",
            "|                Name|              Author|User Rating|Reviews|Price|Year|      Genre|\n",
            "+--------------------+--------------------+-----------+-------+-----+----+-----------+\n",
            "|10-Day Green Smoo...|            JJ Smith|        4.7|  17350|    8|2016|Non Fiction|\n",
            "|   11/22/63: A Novel|        Stephen King|        4.6|   2052|   22|2011|    Fiction|\n",
            "|12 Rules for Life...|  Jordan B. Peterson|        4.7|  18979|   15|2018|Non Fiction|\n",
            "|1984 (Signet Clas...|       George Orwell|        4.7|  21424|    6|2017|    Fiction|\n",
            "|5,000 Awesome Fac...|National Geograph...|        4.8|   7665|   12|2019|Non Fiction|\n",
            "+--------------------+--------------------+-----------+-------+-----+----+-----------+\n",
            "only showing top 5 rows\n",
            "\n"
          ]
        }
      ]
    },
    {
      "cell_type": "code",
      "source": [],
      "metadata": {
        "id": "O6sixPtfJpo9"
      },
      "execution_count": null,
      "outputs": []
    },
    {
      "cell_type": "code",
      "source": [
        "# 10.\tЗамініть комірки з пропущеними значенями на середні за стовпцем. І тип даних на float.\n",
        "# Про скільки книг зберігає дані датасет?\n",
        "\n",
        "from pyspark.sql.functions import mean\n",
        "\n",
        "# Виберемо середні значення для кожного стовпця\n",
        "mean_user_rating = df.select(mean(\"User Rating\")).collect()[0][0]\n",
        "mean_reviews = df.select(mean(\"Reviews\")).collect()[0][0]\n",
        "mean_price = df.select(mean(\"Price\")).collect()[0][0]\n",
        "mean_year = df.select(mean(\"Year\")).collect()[0][0]\n",
        "\n",
        "# Заміна пропущених значень відповідно до середніх значень\n",
        "df = df.fillna(mean_user_rating, subset=['User Rating'])\n",
        "df = df.fillna(mean_reviews, subset=['Reviews'])\n",
        "df = df.fillna(mean_price, subset=['Price'])\n",
        "df = df.fillna(mean_year, subset=['Year'])\n",
        "\n",
        "\n",
        "# Виведення кількості книг у датасеті\n",
        "books_count = df.count()\n",
        "print(\"Кількість книг у датасеті:\", books_count)"
      ],
      "metadata": {
        "colab": {
          "base_uri": "https://localhost:8080/"
        },
        "id": "DbM1WH1cDwt3",
        "outputId": "4db49a17-1ae0-4cfc-cb0b-1af8fa2eb733"
      },
      "execution_count": 68,
      "outputs": [
        {
          "output_type": "stream",
          "name": "stdout",
          "text": [
            "Кількість книг у датасеті: 550\n"
          ]
        }
      ]
    },
    {
      "cell_type": "code",
      "source": [
        "df.show(5)"
      ],
      "metadata": {
        "colab": {
          "base_uri": "https://localhost:8080/"
        },
        "id": "2bOvaU_HIbSj",
        "outputId": "8487d243-2dca-432e-d099-4bf2fa35e5b6"
      },
      "execution_count": 69,
      "outputs": [
        {
          "output_type": "stream",
          "name": "stdout",
          "text": [
            "+--------------------+--------------------+-----------+-------+-----+----+-----------+\n",
            "|                Name|              Author|User Rating|Reviews|Price|Year|      Genre|\n",
            "+--------------------+--------------------+-----------+-------+-----+----+-----------+\n",
            "|10-Day Green Smoo...|            JJ Smith|        4.7|  17350|    8|2016|Non Fiction|\n",
            "|   11/22/63: A Novel|        Stephen King|        4.6|   2052|   22|2011|    Fiction|\n",
            "|12 Rules for Life...|  Jordan B. Peterson|        4.7|  18979|   15|2018|Non Fiction|\n",
            "|1984 (Signet Clas...|       George Orwell|        4.7|  21424|    6|2017|    Fiction|\n",
            "|5,000 Awesome Fac...|National Geograph...|        4.8|   7665|   12|2019|Non Fiction|\n",
            "+--------------------+--------------------+-----------+-------+-----+----+-----------+\n",
            "only showing top 5 rows\n",
            "\n"
          ]
        }
      ]
    },
    {
      "cell_type": "code",
      "source": [
        "# Імпорт функції trim з pyspark.sql.functions\n",
        "from pyspark.sql.functions import trim\n",
        "\n",
        "# Видаляємо пробіли з початку і кінця значень у стовпці \"name\"\n",
        "df = df.withColumn(\"name\", trim(df[\"name\"]))\n",
        "\n",
        "# Видаляємо пробіли з початку і кінця значень у стовпці \"author\"\n",
        "df = df.withColumn(\"author\", trim(df[\"author\"]))\n",
        "\n",
        "# Видаляємо пробіли з початку і кінця значень у стовпці \"genre\"\n",
        "df = df.withColumn(\"genre\", trim(df[\"genre\"]))\n",
        "\n",
        "# Переіменовуємо стовпці з уже очищеними даними\n",
        "df = df.toDF('name', 'author', 'user_rating', 'reviews', 'price', 'year', 'genre')\n",
        "\n",
        "# Виведемо перші 5 рядків\n",
        "print(\"Перші 5 рядків після видалення пробілів та переіменування стовпців:\")\n",
        "df.show(5)\n"
      ],
      "metadata": {
        "colab": {
          "base_uri": "https://localhost:8080/"
        },
        "id": "t-Xu41lgIFLT",
        "outputId": "726c2f22-70ba-45ea-983d-a884901db863"
      },
      "execution_count": 70,
      "outputs": [
        {
          "output_type": "stream",
          "name": "stdout",
          "text": [
            "Перші 5 рядків після видалення пробілів та переіменування стовпців:\n",
            "+--------------------+--------------------+-----------+-------+-----+----+-----------+\n",
            "|                name|              author|user_rating|reviews|price|year|      genre|\n",
            "+--------------------+--------------------+-----------+-------+-----+----+-----------+\n",
            "|10-Day Green Smoo...|            JJ Smith|        4.7|  17350|    8|2016|Non Fiction|\n",
            "|   11/22/63: A Novel|        Stephen King|        4.6|   2052|   22|2011|    Fiction|\n",
            "|12 Rules for Life...|  Jordan B. Peterson|        4.7|  18979|   15|2018|Non Fiction|\n",
            "|1984 (Signet Clas...|       George Orwell|        4.7|  21424|    6|2017|    Fiction|\n",
            "|5,000 Awesome Fac...|National Geograph...|        4.8|   7665|   12|2019|Non Fiction|\n",
            "+--------------------+--------------------+-----------+-------+-----+----+-----------+\n",
            "only showing top 5 rows\n",
            "\n"
          ]
        }
      ]
    },
    {
      "cell_type": "code",
      "source": [
        "# 11.\tЗмініть назви всіх колонок: назва з маленької букви, без пробілів через підкреслення.\n",
        "# 12.\tdf.columns = ['name', 'author', 'user_rating', 'reviews', 'price', 'year', 'genre']\n",
        "\n",
        "df = df.toDF('name', 'author', 'user_rating', 'reviews', 'price', 'year', 'genre')"
      ],
      "metadata": {
        "id": "kOhjMU2BDw3b"
      },
      "execution_count": 71,
      "outputs": []
    },
    {
      "cell_type": "code",
      "source": [
        "df.show(5)"
      ],
      "metadata": {
        "colab": {
          "base_uri": "https://localhost:8080/"
        },
        "id": "KtALYsb2Hbvt",
        "outputId": "02806c91-3f47-4935-b584-8d91700ae602"
      },
      "execution_count": 72,
      "outputs": [
        {
          "output_type": "stream",
          "name": "stdout",
          "text": [
            "+--------------------+--------------------+-----------+-------+-----+----+-----------+\n",
            "|                name|              author|user_rating|reviews|price|year|      genre|\n",
            "+--------------------+--------------------+-----------+-------+-----+----+-----------+\n",
            "|10-Day Green Smoo...|            JJ Smith|        4.7|  17350|    8|2016|Non Fiction|\n",
            "|   11/22/63: A Novel|        Stephen King|        4.6|   2052|   22|2011|    Fiction|\n",
            "|12 Rules for Life...|  Jordan B. Peterson|        4.7|  18979|   15|2018|Non Fiction|\n",
            "|1984 (Signet Clas...|       George Orwell|        4.7|  21424|    6|2017|    Fiction|\n",
            "|5,000 Awesome Fac...|National Geograph...|        4.8|   7665|   12|2019|Non Fiction|\n",
            "+--------------------+--------------------+-----------+-------+-----+----+-----------+\n",
            "only showing top 5 rows\n",
            "\n"
          ]
        }
      ]
    },
    {
      "cell_type": "code",
      "source": [
        "# 13.\tЗнайдіть автора з найвищим рейтингом.\n",
        "# Видалення рядків з пропущеними значеннями у стовпці \"user_rating\"\n",
        "df = df.filter(df[\"user_rating\"].isNotNull())\n",
        "\n",
        "# Знайдення автора з найвищим рейтингом\n",
        "max_rating_author = df.orderBy(df['user_rating'].desc()).select('author').first()\n",
        "\n",
        "if max_rating_author:\n",
        "    max_rating_author = max_rating_author[0]\n",
        "else:\n",
        "    max_rating_author = \"Немає даних\"\n",
        "\n",
        "print(\"Автор з найвищим рейтингом:\", max_rating_author)\n"
      ],
      "metadata": {
        "colab": {
          "base_uri": "https://localhost:8080/"
        },
        "id": "CeeaMkorDw_6",
        "outputId": "06f7c73c-070b-4415-a701-4c8542125d98"
      },
      "execution_count": 73,
      "outputs": [
        {
          "output_type": "stream",
          "name": "stdout",
          "text": [
            "Автор з найвищим рейтингом: Bill Martin Jr.\n"
          ]
        }
      ]
    },
    {
      "cell_type": "code",
      "source": [
        "# 14.\tЗнайдіть автора з найнижчим рейтингом.\n",
        "\n",
        "min_rating_author = df.orderBy(df['user_rating']).select('author').first()[0]\n",
        "print(\"Автор з найнижчим рейтингом:\", min_rating_author)"
      ],
      "metadata": {
        "colab": {
          "base_uri": "https://localhost:8080/"
        },
        "id": "4i7YtrHlEcNw",
        "outputId": "56694cd3-2356-4fa4-adc7-7ae844e0001f"
      },
      "execution_count": 74,
      "outputs": [
        {
          "output_type": "stream",
          "name": "stdout",
          "text": [
            "Автор з найнижчим рейтингом: J.K. Rowling\n"
          ]
        }
      ]
    },
    {
      "cell_type": "code",
      "source": [
        "# 15.\tЗнайдіть автора, що має найбільшу кількіть рецензій.\n",
        "\n",
        "max_reviews_author = df.orderBy(df['reviews'].desc()).select('author').first()[0]\n",
        "\n",
        "print(\"Автор з найбільшою кількістю рецензій:\", max_reviews_author)"
      ],
      "metadata": {
        "colab": {
          "base_uri": "https://localhost:8080/"
        },
        "id": "pAEl5Qz8EdYB",
        "outputId": "3966ff66-83d8-419a-90d7-6aa654bc91a7"
      },
      "execution_count": 75,
      "outputs": [
        {
          "output_type": "stream",
          "name": "stdout",
          "text": [
            "Автор з найбільшою кількістю рецензій: Delia Owens\n"
          ]
        }
      ]
    },
    {
      "cell_type": "code",
      "source": [
        "# 16.\tПобудуйте гістограму рейтингу 10 найкращих книг (відібрати книги з найбільшим рейтингом).\n",
        "top_10_books = df.orderBy(df['user_rating'].desc()).limit(10)\n",
        "top_10_books.toPandas().plot(kind='bar', x='name', y='user_rating', title=\"Гістограма рейтингу для 10 найкращих книг\")\n"
      ],
      "metadata": {
        "colab": {
          "base_uri": "https://localhost:8080/",
          "height": 1000
        },
        "id": "YSTjOcRlLNXw",
        "outputId": "75c0c78d-d533-452e-b723-bf8cea9fdf10"
      },
      "execution_count": 76,
      "outputs": [
        {
          "output_type": "execute_result",
          "data": {
            "text/plain": [
              "<Axes: title={'center': 'Гістограма рейтингу для 10 найкращих книг'}, xlabel='name'>"
            ]
          },
          "metadata": {},
          "execution_count": 76
        },
        {
          "output_type": "display_data",
          "data": {
            "text/plain": [
              "<Figure size 640x480 with 1 Axes>"
            ],
            "image/png": "[encoded data removed]"
          },
          "metadata": {}
        }
      ]
    },
    {
      "cell_type": "code",
      "source": [
        "# 17.\tПобудуйте матрицю кореляції для стовпчиків 'user_rating', 'reviews', 'price'.\n",
        "\n",
        "from pyspark.ml.feature import VectorAssembler\n",
        "from pyspark.ml.stat import Correlation\n",
        "\n",
        "# Створення вектора ознак з стовпців 'user_rating', 'reviews', 'price'\n",
        "assembler = VectorAssembler(inputCols=['user_rating', 'reviews', 'price'], outputCol=\"features\")\n",
        "df_assembled = assembler.transform(df).select(\"features\")\n",
        "\n",
        "# Побудова матриці кореляції\n",
        "correlation_matrix = Correlation.corr(df_assembled, \"features\").head()\n",
        "\n",
        "# Виведення матриці кореляції\n",
        "print(\"Матриця кореляції для стовпців 'user_rating', 'reviews', 'price':\")\n",
        "print(correlation_matrix)\n"
      ],
      "metadata": {
        "colab": {
          "base_uri": "https://localhost:8080/"
        },
        "id": "TodBebSILRd3",
        "outputId": "5e2cd823-3059-4257-ab5c-340600b980ae"
      },
      "execution_count": 78,
      "outputs": [
        {
          "output_type": "stream",
          "name": "stdout",
          "text": [
            "Матриця кореляції для стовпців 'user_rating', 'reviews', 'price':\n",
            "Row(pearson(features)=DenseMatrix(3, 3, [1.0, -0.0017, -0.1331, -0.0017, 1.0, -0.1092, -0.1331, -0.1092, 1.0], False))\n"
          ]
        }
      ]
    }
  ]
}